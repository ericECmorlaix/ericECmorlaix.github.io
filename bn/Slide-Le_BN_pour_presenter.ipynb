{
 "cells": [
  {
   "cell_type": "markdown",
   "metadata": {
    "slideshow": {
     "slide_type": "slide"
    }
   },
   "source": [
    "# Le Bloc Note pour présenter"
   ]
  },
  {
   "cell_type": "markdown",
   "metadata": {
    "slideshow": {
     "slide_type": "fragment"
    }
   },
   "source": [
    "Le classique affichage linéaire et vertical des cellules d'un notebook jupyter peut instantanément se transformer en un diaporama simple et efficace pour une présentation originale de son contenu grace à l'extension [RISE](https://rise.readthedocs.io/en/latest/#what-is-rise)..."
   ]
  },
  {
   "cell_type": "markdown",
   "metadata": {
    "slideshow": {
     "slide_type": "skip"
    }
   },
   "source": [
    "***  \n",
    "> Ce document est un [notebook jupyter](https://ericecmorlaix.github.io/adn-Tutoriel_lab_si/IDE/notebook/), expérimentez les cellules suivantes pour bien vous familiariser avec cet environnement, puis découvrez également d'[autres fonctionnalités](https://ericecmorlaix.github.io/adn-Tutoriel_lab_si/IDE/notebook/#exemples).\n",
    "***"
   ]
  },
  {
   "cell_type": "markdown",
   "metadata": {
    "slideshow": {
     "slide_type": "slide"
    }
   },
   "source": [
    "## Affichage en mode SlideShow\n"
   ]
  },
  {
   "cell_type": "markdown",
   "metadata": {
    "slideshow": {
     "slide_type": "subslide"
    }
   },
   "source": [
    "### Préalable\n"
   ]
  },
  {
   "cell_type": "markdown",
   "metadata": {
    "slideshow": {
     "slide_type": "fragment"
    }
   },
   "source": [
    "- dans [Carnets](https://holzschu.github.io/Carnets_Jupyter/), si aucun bouton histogramme <i class='fa fa-bar-chart icon-bar-chart btn  btn-xs btn-defmault'></i>  n'est présent dans la barre d'outils, exécuter la commande de la cellule de code suivante puis redémarrer l'application."
   ]
  },
  {
   "cell_type": "code",
   "execution_count": null,
   "metadata": {},
   "outputs": [],
   "source": [
    "%pip install RISE"
   ]
  },
  {
   "cell_type": "markdown",
   "metadata": {
    "slideshow": {
     "slide_type": "subslide"
    }
   },
   "source": [
    "### Visualiser le diaporama\n",
    "\n",
    "Il suffit de cliquer sur le bouton histogramme <i class='fa fa-bar-chart icon-bar-chart btn  btn-xs btn-defmault'></i> pour basculer l'affichage en mode SlideShow.\n",
    "\n",
    "- Les quatre boutons de la rosace en bas à droite permettent de naviguer dans ce diaporama ;\n",
    "- On obtient une vue globale de l'organisation des diapositives en appuyant sur la touche **`Echap`** ;\n",
    "\n",
    "- Il faut cliquer sur le point d'interrogation <i class='icon-question'></i> pour connaitre les fonctionnalités associées aux raccourcis clavier.\n",
    "- Il faut cliquer sur la croix <i class='icon-times-circle'></i> pour revenir au mode d'affichage normal.\n",
    "\n"
   ]
  },
  {
   "cell_type": "markdown",
   "metadata": {
    "slideshow": {
     "slide_type": "notes"
    }
   },
   "source": [
    "> Des boutons supplémentaires sont disponibles dans [Basthon](https://notebook.basthon.fr/) ajoutant des fonctionnalités d'annotations."
   ]
  },
  {
   "cell_type": "markdown",
   "metadata": {
    "slideshow": {
     "slide_type": "slide"
    }
   },
   "source": [
    "## Paramétrage des cellules\n",
    "\n",
    "C'est le paramètre **`Slide Type`** qui fixe le comportement de chaque cellule dans le diaporama.\n",
    "\n",
    "Les valeurs possibles pour le type de diapo sont :\n",
    "| Valeur | en JSON | Comportement |\n",
    "| :----: |:-------:| :------------|\n",
    "| -|none|Avec la cellule précédente|\n",
    "|Diapo|slide|Nouvelle diapositive horizontalement|\n",
    "|Sous-Diapo|subslide|Nouvelle diapositive verticalement|\n",
    "|Extrait|fragment|Nouveau contenu qui s'affiche dans la diapositive précédente|\n",
    "|Sauter|skip|Cellule non intégrée dans le diaporama|\n",
    "|Notes|notes|Pour des [notes destinées au présentateur](https://rise.readthedocs.io/en/latest/usage.html#speaker-notes)|"
   ]
  },
  {
   "cell_type": "markdown",
   "metadata": {
    "slideshow": {
     "slide_type": "fragment"
    }
   },
   "source": [
    "> Il faut donc penser à organiser le contenu du notebook dans différentes cellules selon l'affichage final souhaité dans le diaporama...\n",
    "\n"
   ]
  },
  {
   "cell_type": "markdown",
   "metadata": {
    "slideshow": {
     "slide_type": "notes"
    }
   },
   "source": [
    "> <h3 class='fa fa-cogs' style=\"color: darkorange\"> A faire vous-même </h3>\n",
    ">\n",
    "> - Par le menu **`View>Cell Toolbar>Diaporama`** affichez le paramétrage des cellules pour leur affichage en mode SlideShow.>\n",
    "> - Modifiez le **`Slide Type`** sélectionné dans le menu et observer les effets de ces changements..."
   ]
  }
 ],
 "metadata": {
  "kernelspec": {
   "display_name": "Python 3",
   "language": "python",
   "name": "python3"
  },
  "language_info": {
   "codemirror_mode": {
    "name": "ipython",
    "version": 3
   },
   "file_extension": ".py",
   "mimetype": "text/x-python",
   "name": "python",
   "nbconvert_exporter": "python",
   "pygments_lexer": "ipython3",
   "version": "3.10.8"
  }
 },
 "nbformat": 4,
 "nbformat_minor": 2
}

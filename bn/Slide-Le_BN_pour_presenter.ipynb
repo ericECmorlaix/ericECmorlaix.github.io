{
 "cells": [
  {
   "cell_type": "markdown",
   "metadata": {},
   "source": [
    "# Le Bloc Note pour présenter\n",
    "\n",
    "\n",
    "Le classique affichage linéaire et vertical des cellules d'un notebook jupyter peut instantanément se transformer en un diaporama simple et efficace pour une présentation originale de son contenu grace à l'extension [RISE](https://rise.readthedocs.io/en/latest/#what-is-rise)..."
   ]
  },
  {
   "cell_type": "markdown",
   "metadata": {},
   "source": [
    "***  \n",
    "> Ce document est un [notebook jupyter](https://ericecmorlaix.github.io/adn-Tutoriel_lab_si/IDE/notebook/), expérimentez les cellules suivantes pour bien vous familiariser avec cet environnement, puis découvrez également d'[autres fonctionnalités](https://ericecmorlaix.github.io/adn-Tutoriel_lab_si/IDE/notebook/#exemples).\n",
    "***"
   ]
  },
  {
   "cell_type": "markdown",
   "metadata": {
    "slideshow": {
     "slide_type": "slide"
    }
   },
   "source": [
    "## Affichage en mode Diaporama\n",
    "\n"
   ]
  },
  {
   "cell_type": "markdown",
   "metadata": {
    "slideshow": {
     "slide_type": "subslide"
    }
   },
   "source": [
    "### Préalable\n",
    "\n"
   ]
  },
  {
   "cell_type": "markdown",
   "metadata": {
    "slideshow": {
     "slide_type": "fragment"
    }
   },
   "source": [
    "- dans [Carnets](https://holzschu.github.io/Carnets_Jupyter/), si aucun bouton histogramme <i class='fa fa-bar-chart icon-bar-chart btn  btn-xs btn-defmault'></i>  n'est présent dans la barre d'outils, exécuter la commande de la cellule de code suivante puis redémarrer l'application."
   ]
  },
  {
   "cell_type": "code",
   "execution_count": null,
   "metadata": {},
   "outputs": [],
   "source": [
    "%pip install RISE"
   ]
  },
  {
   "cell_type": "markdown",
   "metadata": {},
   "source": [
    ", cliquez dessus pour basculer l'affichage en mode SlideShow.\n",
    "\n",
    " Naviguez alors dans ce diaporama grace aux quatre boutons de la rosace en bas à droite.    \n",
    "Cliquez sur le <button class='fa fa-question icon-question'></button> pour connaitre les fonctionnalités associées aux raccourcis clavier.\n",
    "Cliquez sur la <button class='fa fa-times-circle  icon-times-circle'></button> pour revenir au mode d'affichage normal. Essayez..."
   ]
  },
  {
   "cell_type": "markdown",
   "metadata": {},
   "source": [
    "**15)** Par le menu **`View>Cell Toolbar>Slideshow`** affichez le paramétrage des cellules pour leur affichage en mode diaporama. Modifiez le **`Slide Type`** sélectionné dans le menu et observer les effets de ces changements..."
   ]
  }
 ],
 "metadata": {
  "kernelspec": {
   "display_name": "Python 3",
   "language": "python",
   "name": "python3"
  },
  "language_info": {
   "codemirror_mode": {
    "name": "ipython",
    "version": 3
   },
   "file_extension": ".py",
   "mimetype": "text/x-python",
   "name": "python",
   "nbconvert_exporter": "python",
   "pygments_lexer": "ipython3",
   "version": "3.10.8"
  }
 },
 "nbformat": 4,
 "nbformat_minor": 2
}
